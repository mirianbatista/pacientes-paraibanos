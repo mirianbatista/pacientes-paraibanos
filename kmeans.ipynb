{
 "cells": [
  {
   "cell_type": "code",
   "execution_count": 1,
   "metadata": {},
   "outputs": [],
   "source": [
    "import pandas as pd\n",
    "import seaborn as sns\n",
    "import matplotlib.pyplot as plt\n",
    "import geopandas as gpd\n",
    "from sklearn.cluster import KMeans, k_means"
   ]
  },
  {
   "cell_type": "code",
   "execution_count": 2,
   "metadata": {},
   "outputs": [],
   "source": [
    "desloc = pd.read_csv(\"flourish.csv\")\n",
    "coord = pd.read_csv(\"coordenadas.csv\")\n",
    "mapdf = gpd.read_file(\"a.shp\", encoding='utf8') "
   ]
  },
  {
   "cell_type": "code",
   "execution_count": 3,
   "metadata": {},
   "outputs": [
    {
     "data": {
      "text/html": [
       "<div>\n",
       "<style scoped>\n",
       "    .dataframe tbody tr th:only-of-type {\n",
       "        vertical-align: middle;\n",
       "    }\n",
       "\n",
       "    .dataframe tbody tr th {\n",
       "        vertical-align: top;\n",
       "    }\n",
       "\n",
       "    .dataframe thead th {\n",
       "        text-align: right;\n",
       "    }\n",
       "</style>\n",
       "<table border=\"1\" class=\"dataframe\">\n",
       "  <thead>\n",
       "    <tr style=\"text-align: right;\">\n",
       "      <th></th>\n",
       "      <th>NO_MUNICIPIO</th>\n",
       "      <th>NO_MUNICIPIO_RES</th>\n",
       "      <th>lat_destino</th>\n",
       "      <th>long_destino</th>\n",
       "      <th>lat_origem</th>\n",
       "      <th>long_origem</th>\n",
       "      <th>name</th>\n",
       "    </tr>\n",
       "  </thead>\n",
       "  <tbody>\n",
       "    <tr>\n",
       "      <th>1</th>\n",
       "      <td>AGUA BRANCA</td>\n",
       "      <td>AGUA BRANCA</td>\n",
       "      <td>-7.515105</td>\n",
       "      <td>-37.639403</td>\n",
       "      <td>-7.515105</td>\n",
       "      <td>-37.639403</td>\n",
       "      <td>AGUA BRANCA</td>\n",
       "    </tr>\n",
       "    <tr>\n",
       "      <th>2</th>\n",
       "      <td>AGUA BRANCA</td>\n",
       "      <td>AGUA BRANCA</td>\n",
       "      <td>-7.515105</td>\n",
       "      <td>-37.639403</td>\n",
       "      <td>-7.515105</td>\n",
       "      <td>-37.639403</td>\n",
       "      <td>AGUA BRANCA</td>\n",
       "    </tr>\n",
       "    <tr>\n",
       "      <th>3</th>\n",
       "      <td>AGUA BRANCA</td>\n",
       "      <td>AGUA BRANCA</td>\n",
       "      <td>-7.515105</td>\n",
       "      <td>-37.639403</td>\n",
       "      <td>-7.515105</td>\n",
       "      <td>-37.639403</td>\n",
       "      <td>AGUA BRANCA</td>\n",
       "    </tr>\n",
       "    <tr>\n",
       "      <th>4</th>\n",
       "      <td>AGUA BRANCA</td>\n",
       "      <td>AGUA BRANCA</td>\n",
       "      <td>-7.515105</td>\n",
       "      <td>-37.639403</td>\n",
       "      <td>-7.515105</td>\n",
       "      <td>-37.639403</td>\n",
       "      <td>AGUA BRANCA</td>\n",
       "    </tr>\n",
       "    <tr>\n",
       "      <th>5</th>\n",
       "      <td>AGUA BRANCA</td>\n",
       "      <td>AGUA BRANCA</td>\n",
       "      <td>-7.515105</td>\n",
       "      <td>-37.639403</td>\n",
       "      <td>-7.515105</td>\n",
       "      <td>-37.639403</td>\n",
       "      <td>AGUA BRANCA</td>\n",
       "    </tr>\n",
       "  </tbody>\n",
       "</table>\n",
       "</div>"
      ],
      "text/plain": [
       "  NO_MUNICIPIO NO_MUNICIPIO_RES  lat_destino  long_destino  lat_origem  \\\n",
       "1  AGUA BRANCA      AGUA BRANCA    -7.515105    -37.639403   -7.515105   \n",
       "2  AGUA BRANCA      AGUA BRANCA    -7.515105    -37.639403   -7.515105   \n",
       "3  AGUA BRANCA      AGUA BRANCA    -7.515105    -37.639403   -7.515105   \n",
       "4  AGUA BRANCA      AGUA BRANCA    -7.515105    -37.639403   -7.515105   \n",
       "5  AGUA BRANCA      AGUA BRANCA    -7.515105    -37.639403   -7.515105   \n",
       "\n",
       "   long_origem         name  \n",
       "1   -37.639403  AGUA BRANCA  \n",
       "2   -37.639403  AGUA BRANCA  \n",
       "3   -37.639403  AGUA BRANCA  \n",
       "4   -37.639403  AGUA BRANCA  \n",
       "5   -37.639403  AGUA BRANCA  "
      ]
     },
     "execution_count": 3,
     "metadata": {},
     "output_type": "execute_result"
    }
   ],
   "source": [
    "df = pd.merge(desloc, coord, left_on=\"NO_MUNICIPIO_RES\", right_on=\"name\", how=\"left\").rename(columns={\"latitude_x\":\"lat_destino\", \"longitude_x\":\"long_destino\", \"latitude_y\":\"lat_origem\", \"longitude_y\":\"long_origem\"}).dropna()\n",
    "df.head()"
   ]
  },
  {
   "cell_type": "code",
   "execution_count": 4,
   "metadata": {},
   "outputs": [
    {
     "data": {
      "text/html": [
       "<div>\n",
       "<style scoped>\n",
       "    .dataframe tbody tr th:only-of-type {\n",
       "        vertical-align: middle;\n",
       "    }\n",
       "\n",
       "    .dataframe tbody tr th {\n",
       "        vertical-align: top;\n",
       "    }\n",
       "\n",
       "    .dataframe thead th {\n",
       "        text-align: right;\n",
       "    }\n",
       "</style>\n",
       "<table border=\"1\" class=\"dataframe\">\n",
       "  <thead>\n",
       "    <tr style=\"text-align: right;\">\n",
       "      <th></th>\n",
       "      <th>NM_MUNICIP</th>\n",
       "      <th>CD_GEOCMU</th>\n",
       "      <th>geometry</th>\n",
       "    </tr>\n",
       "  </thead>\n",
       "  <tbody>\n",
       "    <tr>\n",
       "      <th>0</th>\n",
       "      <td>ALAGOA NOVA</td>\n",
       "      <td>2500403</td>\n",
       "      <td>POLYGON ((-35.76231 -7.03313, -35.76065 -7.031...</td>\n",
       "    </tr>\n",
       "    <tr>\n",
       "      <th>1</th>\n",
       "      <td>AREIA DE BARAUNAS</td>\n",
       "      <td>2501153</td>\n",
       "      <td>POLYGON ((-36.99376 -7.11994, -36.99371 -7.119...</td>\n",
       "    </tr>\n",
       "    <tr>\n",
       "      <th>2</th>\n",
       "      <td>SANTANA DE MANGUEIRA</td>\n",
       "      <td>2513505</td>\n",
       "      <td>POLYGON ((-38.37213 -7.53700, -38.37175 -7.535...</td>\n",
       "    </tr>\n",
       "    <tr>\n",
       "      <th>3</th>\n",
       "      <td>PAULISTA</td>\n",
       "      <td>2510907</td>\n",
       "      <td>POLYGON ((-37.77414 -6.59796, -37.75480 -6.595...</td>\n",
       "    </tr>\n",
       "    <tr>\n",
       "      <th>4</th>\n",
       "      <td>ESPERANCA</td>\n",
       "      <td>2506004</td>\n",
       "      <td>POLYGON ((-35.92728 -7.01685, -35.92749 -7.016...</td>\n",
       "    </tr>\n",
       "  </tbody>\n",
       "</table>\n",
       "</div>"
      ],
      "text/plain": [
       "             NM_MUNICIP CD_GEOCMU  \\\n",
       "0           ALAGOA NOVA   2500403   \n",
       "1     AREIA DE BARAUNAS   2501153   \n",
       "2  SANTANA DE MANGUEIRA   2513505   \n",
       "3              PAULISTA   2510907   \n",
       "4             ESPERANCA   2506004   \n",
       "\n",
       "                                            geometry  \n",
       "0  POLYGON ((-35.76231 -7.03313, -35.76065 -7.031...  \n",
       "1  POLYGON ((-36.99376 -7.11994, -36.99371 -7.119...  \n",
       "2  POLYGON ((-38.37213 -7.53700, -38.37175 -7.535...  \n",
       "3  POLYGON ((-37.77414 -6.59796, -37.75480 -6.595...  \n",
       "4  POLYGON ((-35.92728 -7.01685, -35.92749 -7.016...  "
      ]
     },
     "execution_count": 4,
     "metadata": {},
     "output_type": "execute_result"
    }
   ],
   "source": [
    "import unicodedata\n",
    "\n",
    "def tiraAcentos(text):\n",
    "    try:\n",
    "        text = unicode(text, 'utf-8')\n",
    "    except NameError:  \n",
    "        pass\n",
    "    text = unicodedata.normalize('NFD', text)\\\n",
    "           .encode('ascii', 'ignore')\\\n",
    "           .decode(\"utf-8\")\n",
    "    return str(text)\n",
    "\n",
    "mapdf['NM_MUNICIP'] = mapdf.apply(lambda row: tiraAcentos(row['NM_MUNICIP']), axis=1)\n",
    "mapdf.head()"
   ]
  },
  {
   "cell_type": "code",
   "execution_count": 5,
   "metadata": {},
   "outputs": [
    {
     "data": {
      "text/html": [
       "<div>\n",
       "<style scoped>\n",
       "    .dataframe tbody tr th:only-of-type {\n",
       "        vertical-align: middle;\n",
       "    }\n",
       "\n",
       "    .dataframe tbody tr th {\n",
       "        vertical-align: top;\n",
       "    }\n",
       "\n",
       "    .dataframe thead th {\n",
       "        text-align: right;\n",
       "    }\n",
       "</style>\n",
       "<table border=\"1\" class=\"dataframe\">\n",
       "  <thead>\n",
       "    <tr style=\"text-align: right;\">\n",
       "      <th></th>\n",
       "      <th>NO_MUNICIPIO</th>\n",
       "      <th>NO_MUNICIPIO_RES</th>\n",
       "      <th>lat_destino</th>\n",
       "      <th>long_destino</th>\n",
       "      <th>lat_origem</th>\n",
       "      <th>long_origem</th>\n",
       "      <th>name</th>\n",
       "      <th>NM_MUNICIP</th>\n",
       "      <th>CD_GEOCMU</th>\n",
       "      <th>geometry</th>\n",
       "    </tr>\n",
       "  </thead>\n",
       "  <tbody>\n",
       "    <tr>\n",
       "      <th>0</th>\n",
       "      <td>AGUA BRANCA</td>\n",
       "      <td>AGUA BRANCA</td>\n",
       "      <td>-7.515105</td>\n",
       "      <td>-37.639403</td>\n",
       "      <td>-7.515105</td>\n",
       "      <td>-37.639403</td>\n",
       "      <td>AGUA BRANCA</td>\n",
       "      <td>AGUA BRANCA</td>\n",
       "      <td>2500106</td>\n",
       "      <td>POLYGON ((-37.70543 -7.47576, -37.70089 -7.462...</td>\n",
       "    </tr>\n",
       "    <tr>\n",
       "      <th>1</th>\n",
       "      <td>AGUA BRANCA</td>\n",
       "      <td>AGUA BRANCA</td>\n",
       "      <td>-7.515105</td>\n",
       "      <td>-37.639403</td>\n",
       "      <td>-7.515105</td>\n",
       "      <td>-37.639403</td>\n",
       "      <td>AGUA BRANCA</td>\n",
       "      <td>AGUA BRANCA</td>\n",
       "      <td>2500106</td>\n",
       "      <td>POLYGON ((-37.70543 -7.47576, -37.70089 -7.462...</td>\n",
       "    </tr>\n",
       "    <tr>\n",
       "      <th>2</th>\n",
       "      <td>AGUA BRANCA</td>\n",
       "      <td>AGUA BRANCA</td>\n",
       "      <td>-7.515105</td>\n",
       "      <td>-37.639403</td>\n",
       "      <td>-7.515105</td>\n",
       "      <td>-37.639403</td>\n",
       "      <td>AGUA BRANCA</td>\n",
       "      <td>AGUA BRANCA</td>\n",
       "      <td>2500106</td>\n",
       "      <td>POLYGON ((-37.70543 -7.47576, -37.70089 -7.462...</td>\n",
       "    </tr>\n",
       "    <tr>\n",
       "      <th>3</th>\n",
       "      <td>AGUA BRANCA</td>\n",
       "      <td>AGUA BRANCA</td>\n",
       "      <td>-7.515105</td>\n",
       "      <td>-37.639403</td>\n",
       "      <td>-7.515105</td>\n",
       "      <td>-37.639403</td>\n",
       "      <td>AGUA BRANCA</td>\n",
       "      <td>AGUA BRANCA</td>\n",
       "      <td>2500106</td>\n",
       "      <td>POLYGON ((-37.70543 -7.47576, -37.70089 -7.462...</td>\n",
       "    </tr>\n",
       "    <tr>\n",
       "      <th>4</th>\n",
       "      <td>AGUA BRANCA</td>\n",
       "      <td>AGUA BRANCA</td>\n",
       "      <td>-7.515105</td>\n",
       "      <td>-37.639403</td>\n",
       "      <td>-7.515105</td>\n",
       "      <td>-37.639403</td>\n",
       "      <td>AGUA BRANCA</td>\n",
       "      <td>AGUA BRANCA</td>\n",
       "      <td>2500106</td>\n",
       "      <td>POLYGON ((-37.70543 -7.47576, -37.70089 -7.462...</td>\n",
       "    </tr>\n",
       "  </tbody>\n",
       "</table>\n",
       "</div>"
      ],
      "text/plain": [
       "  NO_MUNICIPIO NO_MUNICIPIO_RES  lat_destino  long_destino  lat_origem  \\\n",
       "0  AGUA BRANCA      AGUA BRANCA    -7.515105    -37.639403   -7.515105   \n",
       "1  AGUA BRANCA      AGUA BRANCA    -7.515105    -37.639403   -7.515105   \n",
       "2  AGUA BRANCA      AGUA BRANCA    -7.515105    -37.639403   -7.515105   \n",
       "3  AGUA BRANCA      AGUA BRANCA    -7.515105    -37.639403   -7.515105   \n",
       "4  AGUA BRANCA      AGUA BRANCA    -7.515105    -37.639403   -7.515105   \n",
       "\n",
       "   long_origem         name   NM_MUNICIP CD_GEOCMU  \\\n",
       "0   -37.639403  AGUA BRANCA  AGUA BRANCA   2500106   \n",
       "1   -37.639403  AGUA BRANCA  AGUA BRANCA   2500106   \n",
       "2   -37.639403  AGUA BRANCA  AGUA BRANCA   2500106   \n",
       "3   -37.639403  AGUA BRANCA  AGUA BRANCA   2500106   \n",
       "4   -37.639403  AGUA BRANCA  AGUA BRANCA   2500106   \n",
       "\n",
       "                                            geometry  \n",
       "0  POLYGON ((-37.70543 -7.47576, -37.70089 -7.462...  \n",
       "1  POLYGON ((-37.70543 -7.47576, -37.70089 -7.462...  \n",
       "2  POLYGON ((-37.70543 -7.47576, -37.70089 -7.462...  \n",
       "3  POLYGON ((-37.70543 -7.47576, -37.70089 -7.462...  \n",
       "4  POLYGON ((-37.70543 -7.47576, -37.70089 -7.462...  "
      ]
     },
     "execution_count": 5,
     "metadata": {},
     "output_type": "execute_result"
    }
   ],
   "source": [
    "df1 = pd.merge(df, mapdf, left_on=\"NO_MUNICIPIO\", right_on=\"NM_MUNICIP\", how=\"left\")\n",
    "df1.head()"
   ]
  },
  {
   "cell_type": "code",
   "execution_count": 6,
   "metadata": {},
   "outputs": [
    {
     "data": {
      "image/png": "[encoded data removed]",
      "text/plain": [
       "<Figure size 432x288 with 1 Axes>"
      ]
     },
     "metadata": {
      "needs_background": "light"
     },
     "output_type": "display_data"
    }
   ],
   "source": [
    "for col in df.columns:\n",
    "    sns.scatterplot(df1[\"long_origem\"], df1[\"lat_origem\"], color=\"r\")\n",
    "    sns.scatterplot(df1[\"long_destino\"], df1[\"lat_destino\"], color=\"b\")\n",
    "plt.show()"
   ]
  },
  {
   "cell_type": "code",
   "execution_count": 8,
   "metadata": {},
   "outputs": [],
   "source": [
    "x = df1.iloc[:, [2, 3, 4,5]].values\n",
    "kmeans = KMeans(n_clusters = 3, init = 'k-means++', max_iter = 300, n_init = 10, random_state = 0)\n",
    "y_kmeans = kmeans.fit_predict(x)"
   ]
  },
  {
   "cell_type": "code",
   "execution_count": 9,
   "metadata": {},
   "outputs": [
    {
     "name": "stderr",
     "output_type": "stream",
     "text": [
      "No handles with labels found to put in legend.\n"
     ]
    },
    {
     "data": {
      "text/plain": [
       "<matplotlib.legend.Legend at 0x7f899e74cda0>"
      ]
     },
     "execution_count": 9,
     "metadata": {},
     "output_type": "execute_result"
    },
    {
     "data": {
      "image/png": "[encoded data removed]",
      "text/plain": [
       "<Figure size 432x288 with 1 Axes>"
      ]
     },
     "metadata": {
      "needs_background": "light"
     },
     "output_type": "display_data"
    }
   ],
   "source": [
    "plt.scatter(x[y_kmeans == 0, 0], x[y_kmeans == 0, 1], s = 5, c = 'red')\n",
    "plt.scatter(x[y_kmeans == 1, 0], x[y_kmeans == 1, 1], s = 5, c = 'red')\n",
    "plt.scatter(x[y_kmeans == 2, 0], x[y_kmeans == 2, 1], s = 5, c = 'blue')\n",
    "plt.scatter(x[y_kmeans == 3, 0], x[y_kmeans == 3, 1], s = 5, c = 'blue')\n",
    "plt.scatter(kmeans.cluster_centers_[:, 0], kmeans.cluster_centers_[:,1], s = 50, c = 'yellow')\n",
    "plt.legend()"
   ]
  },
  {
   "cell_type": "code",
   "execution_count": 15,
   "metadata": {},
   "outputs": [
    {
     "data": {
      "text/plain": [
       "<matplotlib.axes._subplots.AxesSubplot at 0x7f899e5cc128>"
      ]
     },
     "execution_count": 15,
     "metadata": {},
     "output_type": "execute_result"
    },
    {
     "data": {
      "image/png": "[encoded data removed]",
      "text/plain": [
       "<Figure size 432x288 with 1 Axes>"
      ]
     },
     "metadata": {
      "needs_background": "light"
     },
     "output_type": "display_data"
    }
   ],
   "source": [
    "ax = mapdf.plot()\n",
    "ax.axis('off')\n",
    "sns.scatterplot(df[\"long_origem\"], df[\"lat_origem\"], s=1, color=\"purple\")\n",
    "sns.scatterplot(df[\"long_destino\"], df[\"lat_destino\"], s=1, color=\"b\")"
   ]
  },
  {
   "cell_type": "code",
   "execution_count": 19,
   "metadata": {},
   "outputs": [
    {
     "data": {
      "text/plain": [
       "<matplotlib.collections.PathCollection at 0x7f899a9dce48>"
      ]
     },
     "execution_count": 19,
     "metadata": {},
     "output_type": "execute_result"
    },
    {
     "data": {
      "image/png": "[encoded data removed]",
      "text/plain": [
       "<Figure size 432x288 with 1 Axes>"
      ]
     },
     "metadata": {
      "needs_background": "light"
     },
     "output_type": "display_data"
    }
   ],
   "source": [
    "ax = mapdf.plot()\n",
    "#ax.axis('off')\n",
    "plt.scatter(x[y_kmeans == 0, 0], x[y_kmeans == 0, 1], s=5, c='red')\n",
    "plt.scatter(x[y_kmeans == 1, 0], x[y_kmeans == 1, 1], s=5, c='red')\n",
    "plt.scatter(x[y_kmeans == 2, 0], x[y_kmeans == 2, 1], s=5, c='blue')\n",
    "plt.scatter(x[y_kmeans == 3, 0], x[y_kmeans == 3, 1], s=5, c='blue')\n",
    "plt.scatter(kmeans.cluster_centers_[:, 0], kmeans.cluster_centers_[:,1], s = 50, c = 'yellow')"
   ]
  }
 ],
 "metadata": {
  "kernelspec": {
   "display_name": "Python 3",
   "language": "python",
   "name": "python3"
  },
  "language_info": {
   "codemirror_mode": {
    "name": "ipython",
    "version": 3
   },
   "file_extension": ".py",
   "mimetype": "text/x-python",
   "name": "python",
   "nbconvert_exporter": "python",
   "pygments_lexer": "ipython3",
   "version": "3.7.3"
  }
 },
 "nbformat": 4,
 "nbformat_minor": 2
}
