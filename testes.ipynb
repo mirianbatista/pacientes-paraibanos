{
 "cells": [
  {
   "cell_type": "code",
   "execution_count": 1,
   "metadata": {},
   "outputs": [],
   "source": [
    "import pandas as pd"
   ]
  },
  {
   "cell_type": "code",
   "execution_count": 2,
   "metadata": {},
   "outputs": [
    {
     "name": "stderr",
     "output_type": "stream",
     "text": [
      "/home/mirian/anaconda3/lib/python3.7/site-packages/IPython/core/interactiveshell.py:3049: DtypeWarning: Columns (8) have mixed types. Specify dtype option on import or set low_memory=False.\n",
      "  interactivity=interactivity, compiler=compiler, result=result)\n"
     ]
    },
    {
     "data": {
      "text/plain": [
       "FUNAD                                                       128560\n",
       "COMPLEXO DE DOENCAS INFECTO CONTAGIOSAS CLEMENTINO FRAGA     90734\n",
       "UPA CRUZ DAS ARMAS                                           71607\n",
       "UPA 24H UNIDADE DE PRONTO ATENDIMENTO BAYEUX                 68182\n",
       "CAIS JAGUARIBE                                               62251\n",
       "HOSPITAL GERAL DE MAMANGUAPE                                 56481\n",
       "HOSPITAL SAO VICENTE DE PAULO                                56392\n",
       "UNIDADE DE PRONTO ATENDIMENTO CELIO PIRES DE SA              55119\n",
       "MATERNIDADE CANDIDA VARGAS                                   48923\n",
       "CENTRO DE ATENCAO PSICOSSOCIAL CAPS I                        47079\n",
       "Name: ESTABELECIMENTO, dtype: int64"
      ]
     },
     "execution_count": 2,
     "metadata": {},
     "output_type": "execute_result"
    }
   ],
   "source": [
    "hospitais = pd.read_csv(\"procedimentos.csv\")\n",
    "h = hospitais.ESTABELECIMENTO.value_counts(ascending=False)[:10]\n",
    "h"
   ]
  }
 ],
 "metadata": {
  "kernelspec": {
   "display_name": "Python 3",
   "language": "python",
   "name": "python3"
  },
  "language_info": {
   "codemirror_mode": {
    "name": "ipython",
    "version": 3
   },
   "file_extension": ".py",
   "mimetype": "text/x-python",
   "name": "python",
   "nbconvert_exporter": "python",
   "pygments_lexer": "ipython3",
   "version": "3.7.3"
  }
 },
 "nbformat": 4,
 "nbformat_minor": 2
}
